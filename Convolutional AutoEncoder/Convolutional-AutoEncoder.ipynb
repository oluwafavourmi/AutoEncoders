{
 "cells": [
  {
   "cell_type": "markdown",
   "metadata": {},
   "source": [
    "##### In this Project, we're looking at building a Covolutional AutoEncoder encoding input images into a latent space and decoding them through a decoder\n"
   ]
  },
  {
   "cell_type": "code",
   "execution_count": 1,
   "metadata": {},
   "outputs": [
    {
     "name": "stdout",
     "output_type": "stream",
     "text": [
      "WARNING:tensorflow:From c:\\Users\\TeeFaith\\anaconda3\\envs\\kenny\\Lib\\site-packages\\keras\\src\\losses.py:2976: The name tf.losses.sparse_softmax_cross_entropy is deprecated. Please use tf.compat.v1.losses.sparse_softmax_cross_entropy instead.\n",
      "\n"
     ]
    }
   ],
   "source": [
    "from keras.preprocessing.image import ImageDataGenerator\n",
    "from keras.layers import Input, Conv2D, MaxPooling2D, Flatten, Dense, Reshape, Conv2DTranspose, UpSampling2D\n",
    "from keras.models import Model,Sequential\n",
    "from keras import backend as K\n",
    "import numpy as np\n",
    "import keras\n",
    "\n",
    "from PIL import Image\n",
    "import matplotlib.pyplot as plt\n",
    "import numpy as np\n",
    "import random"
   ]
  },
  {
   "cell_type": "markdown",
   "metadata": {},
   "source": [
    "##### Data Preprocessing"
   ]
  },
  {
   "cell_type": "code",
   "execution_count": 2,
   "metadata": {},
   "outputs": [],
   "source": [
    "train_data = ImageDataGenerator(rescale=1./255)\n",
    "test_data = ImageDataGenerator(rescale=1./255)"
   ]
  },
  {
   "cell_type": "code",
   "execution_count": 3,
   "metadata": {},
   "outputs": [
    {
     "name": "stdout",
     "output_type": "stream",
     "text": [
      "Found 192 images belonging to 1 classes.\n"
     ]
    }
   ],
   "source": [
    "x_train = train_data.flow_from_directory('C:\\\\Users\\\\TeeFaith\\\\Desktop\\\\ML PROJECTS\\\\AUTOENCODERS\\\\Training\\\\',\n",
    "                                         target_size=(64, 64),\n",
    "                                         batch_size=10,\n",
    "                                         class_mode='input')"
   ]
  },
  {
   "cell_type": "code",
   "execution_count": 4,
   "metadata": {},
   "outputs": [
    {
     "name": "stdout",
     "output_type": "stream",
     "text": [
      "Found 50 images belonging to 1 classes.\n"
     ]
    }
   ],
   "source": [
    "x_test = test_data.flow_from_directory('C:\\\\Users\\\\TeeFaith\\\\Desktop\\\\ML PROJECTS\\\\AUTOENCODERS\\\\Testing\\\\',\n",
    "                                       target_size=(64, 64),\n",
    "                                       batch_size=5,\n",
    "                                       class_mode='input')"
   ]
  },
  {
   "cell_type": "markdown",
   "metadata": {},
   "source": [
    "##### Building the Convolutional AutoEncoder\n",
    "\n",
    "##### AutoEncoder Variant 1"
   ]
  },
  {
   "cell_type": "code",
   "execution_count": 7,
   "metadata": {},
   "outputs": [],
   "source": [
    "#Encoder\n",
    "model = Sequential()\n",
    "model.add(keras.layers.Conv2D(64, (3, 3), padding=\"same\",activation=\"relu\", input_shape=(64, 64, 3)))\n",
    "model.add(keras.layers.MaxPool2D((2,2), padding='same'))\n",
    "model.add(keras.layers.Conv2D(32, (3, 3), padding=\"same\",activation=\"relu\"))\n",
    "model.add(keras.layers.MaxPool2D((2,2), padding='same'))\n",
    "model.add(keras.layers.Conv2D(16, (3, 3), padding=\"same\",activation=\"relu\"))\n",
    "model.add(keras.layers.MaxPool2D((2,2), padding='same'))\n",
    "\n",
    "\n",
    "#Decoder\n",
    "model.add(keras.layers.Conv2D(16, (3,3), activation='relu', padding='same'))\n",
    "model.add(keras.layers.UpSampling2D((2,2)))\n",
    "model.add(keras.layers.Conv2D(32, (3,3), activation='relu', padding='same'))\n",
    "model.add(keras.layers.UpSampling2D((2,2)))\n",
    "model.add(keras.layers.Conv2D(64, (3,3), activation='relu', padding='same'))\n",
    "model.add(keras.layers.UpSampling2D((2,2)))\n",
    " \n",
    "model.add(keras.layers.Conv2D(3, (3,3), activation='sigmoid', padding='same'))\n"
   ]
  },
  {
   "cell_type": "code",
   "execution_count": 8,
   "metadata": {},
   "outputs": [
    {
     "name": "stdout",
     "output_type": "stream",
     "text": [
      "WARNING:tensorflow:From c:\\Users\\TeeFaith\\anaconda3\\envs\\kenny\\Lib\\site-packages\\keras\\src\\optimizers\\__init__.py:309: The name tf.train.Optimizer is deprecated. Please use tf.compat.v1.train.Optimizer instead.\n",
      "\n"
     ]
    }
   ],
   "source": [
    "model.compile(loss=\"mean_squared_error\", optimizer=\"adam\", metrics=['mse'])"
   ]
  },
  {
   "cell_type": "code",
   "execution_count": 9,
   "metadata": {},
   "outputs": [
    {
     "name": "stdout",
     "output_type": "stream",
     "text": [
      "Model: \"sequential_3\"\n",
      "_________________________________________________________________\n",
      " Layer (type)                Output Shape              Param #   \n",
      "=================================================================\n",
      " conv2d_11 (Conv2D)          (None, 64, 64, 64)        1792      \n",
      "                                                                 \n",
      " max_pooling2d_6 (MaxPoolin  (None, 32, 32, 64)        0         \n",
      " g2D)                                                            \n",
      "                                                                 \n",
      " conv2d_12 (Conv2D)          (None, 32, 32, 32)        18464     \n",
      "                                                                 \n",
      " max_pooling2d_7 (MaxPoolin  (None, 16, 16, 32)        0         \n",
      " g2D)                                                            \n",
      "                                                                 \n",
      " conv2d_13 (Conv2D)          (None, 16, 16, 16)        4624      \n",
      "                                                                 \n",
      " max_pooling2d_8 (MaxPoolin  (None, 8, 8, 16)          0         \n",
      " g2D)                                                            \n",
      "                                                                 \n",
      " conv2d_14 (Conv2D)          (None, 8, 8, 16)          2320      \n",
      "                                                                 \n",
      " up_sampling2d_4 (UpSamplin  (None, 16, 16, 16)        0         \n",
      " g2D)                                                            \n",
      "                                                                 \n",
      " conv2d_15 (Conv2D)          (None, 16, 16, 32)        4640      \n",
      "                                                                 \n",
      " up_sampling2d_5 (UpSamplin  (None, 32, 32, 32)        0         \n",
      " g2D)                                                            \n",
      "                                                                 \n",
      " conv2d_16 (Conv2D)          (None, 32, 32, 64)        18496     \n",
      "                                                                 \n",
      " up_sampling2d_6 (UpSamplin  (None, 64, 64, 64)        0         \n",
      " g2D)                                                            \n",
      "                                                                 \n",
      " conv2d_17 (Conv2D)          (None, 64, 64, 3)         1731      \n",
      "                                                                 \n",
      "=================================================================\n",
      "Total params: 52067 (203.39 KB)\n",
      "Trainable params: 52067 (203.39 KB)\n",
      "Non-trainable params: 0 (0.00 Byte)\n",
      "_________________________________________________________________\n"
     ]
    }
   ],
   "source": [
    "model.summary()"
   ]
  },
  {
   "cell_type": "code",
   "execution_count": 10,
   "metadata": {},
   "outputs": [
    {
     "name": "stdout",
     "output_type": "stream",
     "text": [
      "Epoch 1/10\n",
      "WARNING:tensorflow:From c:\\Users\\TeeFaith\\anaconda3\\envs\\kenny\\Lib\\site-packages\\keras\\src\\utils\\tf_utils.py:492: The name tf.ragged.RaggedTensorValue is deprecated. Please use tf.compat.v1.ragged.RaggedTensorValue instead.\n",
      "\n",
      "WARNING:tensorflow:From c:\\Users\\TeeFaith\\anaconda3\\envs\\kenny\\Lib\\site-packages\\keras\\src\\engine\\base_layer_utils.py:384: The name tf.executing_eagerly_outside_functions is deprecated. Please use tf.compat.v1.executing_eagerly_outside_functions instead.\n",
      "\n",
      "4/4 [==============================] - 68s 2s/step - loss: 0.1023 - mse: 0.1023 - val_loss: 0.0845 - val_mse: 0.0845\n",
      "Epoch 2/10\n",
      "4/4 [==============================] - 8s 2s/step - loss: 0.0899 - mse: 0.0899 - val_loss: 0.0907 - val_mse: 0.0907\n",
      "Epoch 3/10\n",
      "4/4 [==============================] - 5s 1s/step - loss: 0.0869 - mse: 0.0869 - val_loss: 0.0776 - val_mse: 0.0776\n",
      "Epoch 4/10\n",
      "4/4 [==============================] - 3s 786ms/step - loss: 0.0806 - mse: 0.0806 - val_loss: 0.0609 - val_mse: 0.0609\n",
      "Epoch 5/10\n",
      "4/4 [==============================] - 3s 849ms/step - loss: 0.0719 - mse: 0.0719 - val_loss: 0.0580 - val_mse: 0.0580\n",
      "Epoch 6/10\n",
      "4/4 [==============================] - 3s 893ms/step - loss: 0.0598 - mse: 0.0598 - val_loss: 0.0481 - val_mse: 0.0481\n",
      "Epoch 7/10\n",
      "4/4 [==============================] - 2s 686ms/step - loss: 0.0502 - mse: 0.0502 - val_loss: 0.0594 - val_mse: 0.0594\n",
      "Epoch 8/10\n",
      "4/4 [==============================] - 2s 542ms/step - loss: 0.0473 - mse: 0.0473 - val_loss: 0.0331 - val_mse: 0.0331\n",
      "Epoch 9/10\n",
      "4/4 [==============================] - 2s 383ms/step - loss: 0.0407 - mse: 0.0407 - val_loss: 0.0412 - val_mse: 0.0412\n",
      "Epoch 10/10\n",
      "4/4 [==============================] - 2s 511ms/step - loss: 0.0326 - mse: 0.0326 - val_loss: 0.0370 - val_mse: 0.0370\n"
     ]
    }
   ],
   "source": [
    "history = model.fit(x_train, validation_data=x_test, steps_per_epoch=4, epochs=10,  validation_steps=2, shuffle=True)"
   ]
  },
  {
   "cell_type": "code",
   "execution_count": 11,
   "metadata": {},
   "outputs": [
    {
     "name": "stderr",
     "output_type": "stream",
     "text": [
      "c:\\Users\\TeeFaith\\anaconda3\\envs\\kenny\\Lib\\site-packages\\keras\\src\\engine\\training.py:3103: UserWarning: You are saving your model as an HDF5 file via `model.save()`. This file format is considered legacy. We recommend using instead the native Keras format, e.g. `model.save('my_model.keras')`.\n",
      "  saving_api.save_model(\n"
     ]
    }
   ],
   "source": [
    "model.save('Convolutional-AutoEncoder1.h5')"
   ]
  },
  {
   "cell_type": "markdown",
   "metadata": {},
   "source": [
    "##### AutoEncoder Test 2"
   ]
  },
  {
   "cell_type": "code",
   "execution_count": 6,
   "metadata": {},
   "outputs": [
    {
     "name": "stdout",
     "output_type": "stream",
     "text": [
      "WARNING:tensorflow:From c:\\Users\\TeeFaith\\anaconda3\\envs\\kenny\\Lib\\site-packages\\keras\\src\\backend.py:1398: The name tf.executing_eagerly_outside_functions is deprecated. Please use tf.compat.v1.executing_eagerly_outside_functions instead.\n",
      "\n"
     ]
    }
   ],
   "source": [
    "encoder_input = keras.layers.Input(\n",
    "shape=(64, 64, 3), name = \"encoder_input\")\n",
    "x = keras.layers.Conv2D(32, (3, 3), strides = 2, activation = 'relu',padding=\"same\")(encoder_input)\n",
    "x = keras.layers.Conv2D(64, (3, 3), strides = 2, activation = 'relu',padding=\"same\")(x)\n",
    "x = keras.layers.Conv2D(128, (3, 3), strides = 2, activation = 'relu',padding=\"same\")(x)\n",
    "shape_before_flattening = K.int_shape(x)[1:]\n",
    "x = keras.layers.Flatten()(x)\n",
    "encoder_output = keras.layers.Dense(2, name=\"encoder_output\")(x)\n",
    "encoder = keras.models.Model(encoder_input, encoder_output)\n"
   ]
  },
  {
   "cell_type": "code",
   "execution_count": 7,
   "metadata": {},
   "outputs": [],
   "source": [
    "decoder_input = keras.layers.Input(shape=(2,), name=\"decoder_input\")\n",
    "x = keras.layers.Dense(np.prod(shape_before_flattening))(decoder_input)\n",
    "x = keras.layers.Reshape(shape_before_flattening)(x)\n",
    "x = keras.layers.Conv2DTranspose(128, (3, 3), strides=2, activation = 'relu', padding=\"same\")(x)\n",
    "x = keras.layers.Conv2DTranspose(64, (3, 3), strides=2, activation = 'relu', padding=\"same\")(x)\n",
    "x = keras.layers.Conv2DTranspose(32, (3, 3), strides=2, activation = 'relu', padding=\"same\")(x)\n",
    "decoder_output = keras.layers.Conv2D(\n",
    "3,\n",
    "(3, 3),\n",
    "strides = 1,\n",
    "activation=\"sigmoid\",\n",
    "padding=\"same\",\n",
    "name=\"decoder_output\"\n",
    ")(x)\n",
    "decoder = keras.models.Model(decoder_input, decoder_output)"
   ]
  },
  {
   "cell_type": "code",
   "execution_count": 8,
   "metadata": {},
   "outputs": [],
   "source": [
    "autoencoder = Model(encoder_input, decoder(encoder_output))"
   ]
  },
  {
   "cell_type": "code",
   "execution_count": 9,
   "metadata": {},
   "outputs": [
    {
     "name": "stdout",
     "output_type": "stream",
     "text": [
      "WARNING:tensorflow:From c:\\Users\\TeeFaith\\anaconda3\\envs\\kenny\\Lib\\site-packages\\keras\\src\\optimizers\\__init__.py:309: The name tf.train.Optimizer is deprecated. Please use tf.compat.v1.train.Optimizer instead.\n",
      "\n"
     ]
    }
   ],
   "source": [
    "autoencoder.compile(optimizer=\"adam\", loss=\"binary_crossentropy\")"
   ]
  },
  {
   "cell_type": "code",
   "execution_count": 10,
   "metadata": {},
   "outputs": [
    {
     "name": "stdout",
     "output_type": "stream",
     "text": [
      "Model: \"model_2\"\n",
      "_________________________________________________________________\n",
      " Layer (type)                Output Shape              Param #   \n",
      "=================================================================\n",
      " encoder_input (InputLayer)  [(None, 64, 64, 3)]       0         \n",
      "                                                                 \n",
      " conv2d (Conv2D)             (None, 32, 32, 32)        896       \n",
      "                                                                 \n",
      " conv2d_1 (Conv2D)           (None, 16, 16, 64)        18496     \n",
      "                                                                 \n",
      " conv2d_2 (Conv2D)           (None, 8, 8, 128)         73856     \n",
      "                                                                 \n",
      " flatten (Flatten)           (None, 8192)              0         \n",
      "                                                                 \n",
      " encoder_output (Dense)      (None, 2)                 16386     \n",
      "                                                                 \n",
      " model_1 (Functional)        (None, 64, 64, 3)         265283    \n",
      "                                                                 \n",
      "=================================================================\n",
      "Total params: 374917 (1.43 MB)\n",
      "Trainable params: 374917 (1.43 MB)\n",
      "Non-trainable params: 0 (0.00 Byte)\n",
      "_________________________________________________________________\n"
     ]
    }
   ],
   "source": [
    "autoencoder.summary()"
   ]
  },
  {
   "cell_type": "code",
   "execution_count": 12,
   "metadata": {},
   "outputs": [
    {
     "name": "stdout",
     "output_type": "stream",
     "text": [
      "Epoch 1/5\n",
      "WARNING:tensorflow:From c:\\Users\\TeeFaith\\anaconda3\\envs\\kenny\\Lib\\site-packages\\keras\\src\\utils\\tf_utils.py:492: The name tf.ragged.RaggedTensorValue is deprecated. Please use tf.compat.v1.ragged.RaggedTensorValue instead.\n",
      "\n",
      "20/20 [==============================] - 168s 2s/step - loss: 0.6918 - val_loss: 0.6745\n",
      "Epoch 2/5\n",
      "20/20 [==============================] - 5s 238ms/step - loss: 0.6758 - val_loss: 0.6594\n",
      "Epoch 3/5\n",
      "20/20 [==============================] - 5s 229ms/step - loss: 0.6493 - val_loss: 0.6495\n",
      "Epoch 4/5\n",
      "20/20 [==============================] - 5s 251ms/step - loss: 0.6369 - val_loss: 0.6228\n",
      "Epoch 5/5\n",
      "20/20 [==============================] - 5s 243ms/step - loss: 0.6239 - val_loss: 0.6152\n"
     ]
    },
    {
     "data": {
      "text/plain": [
       "<keras.src.callbacks.History at 0x1e27e47ff50>"
      ]
     },
     "execution_count": 12,
     "metadata": {},
     "output_type": "execute_result"
    }
   ],
   "source": [
    "autoencoder.fit(\n",
    "x_train,\n",
    "epochs=5,\n",
    "batch_size=10,\n",
    "shuffle=True,\n",
    "validation_data=x_test,\n",
    ")"
   ]
  },
  {
   "cell_type": "code",
   "execution_count": 16,
   "metadata": {},
   "outputs": [
    {
     "name": "stdout",
     "output_type": "stream",
     "text": [
      "20/20 [==============================] - 1s 45ms/step\n"
     ]
    },
    {
     "data": {
      "image/png": "[encoded data removed]",
      "text/plain": [
       "<Figure size 800x800 with 1 Axes>"
      ]
     },
     "metadata": {},
     "output_type": "display_data"
    }
   ],
   "source": [
    "embeddings = encoder.predict(x_train)\n",
    "plt.figure(figsize=(8, 8))\n",
    "plt.scatter(embeddings[:, 0], embeddings[:, 1], c=\"black\", alpha=0.5,s=3)\n",
    "plt.show()"
   ]
  },
  {
   "cell_type": "code",
   "execution_count": null,
   "metadata": {},
   "outputs": [],
   "source": []
  }
 ],
 "metadata": {
  "kernelspec": {
   "display_name": "kenny",
   "language": "python",
   "name": "python3"
  },
  "language_info": {
   "codemirror_mode": {
    "name": "ipython",
    "version": 3
   },
   "file_extension": ".py",
   "mimetype": "text/x-python",
   "name": "python",
   "nbconvert_exporter": "python",
   "pygments_lexer": "ipython3",
   "version": "3.11.5"
  }
 },
 "nbformat": 4,
 "nbformat_minor": 2
}
